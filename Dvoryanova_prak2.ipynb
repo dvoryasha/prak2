{
  "cells": [
    {
      "cell_type": "code",
      "execution_count": null,
      "id": "92001810",
      "metadata": {
        "id": "92001810"
      },
      "outputs": [],
      "source": [
        "with open('Уэллс_-_Война_миров.txt', 'r', encoding='cp1251') as file:\n",
        "    text = file.read()"
      ]
    },
    {
      "cell_type": "code",
      "execution_count": null,
      "id": "28cff9db",
      "metadata": {
        "id": "28cff9db",
        "outputId": "5e360642-e15c-4876-c03c-ab1002903e53"
      },
      "outputs": [
        {
          "name": "stdout",
          "output_type": "stream",
          "text": [
            "Количество слов: 45354\n",
            "Количество строк: 2128\n",
            "Количество символов (с пробелами): 298375\n",
            "Количество символов (без пробелов): 254657\n"
          ]
        }
      ],
      "source": [
        "words = [word.lower() for word in text.split()]\n",
        "\n",
        "word_count = len(words)\n",
        "line_count = text.count('\\n')\n",
        "char_count_with_spaces = len(text)\n",
        "char_count_without_spaces = len(text.replace(' ', ''))\n",
        "\n",
        "print(f'Количество слов: {word_count}')\n",
        "print(f'Количество строк: {line_count}')\n",
        "print(f'Количество символов (с пробелами): {char_count_with_spaces}')\n",
        "print(f'Количество символов (без пробелов): {char_count_without_spaces}')"
      ]
    },
    {
      "cell_type": "code",
      "execution_count": null,
      "id": "43d608d9",
      "metadata": {
        "id": "43d608d9",
        "outputId": "e1a13aa1-7f59-43dc-9d07-ee991ee48a9b"
      },
      "outputs": [
        {
          "data": {
            "image/png": "[encoded data removed]",
            "text/plain": [
              "<Figure size 432x288 with 1 Axes>"
            ]
          },
          "metadata": {
            "needs_background": "light"
          },
          "output_type": "display_data"
        }
      ],
      "source": [
        "import matplotlib.pyplot as plt\n",
        "\n",
        "stop_w = ['и', 'или', 'но', 'а', 'для', 'чтобы', 'если', 'также', 'более', 'менее', '-','о', 'в', 'c', 'к', 'из', 'за', 'от', 'у']\n",
        "\n",
        "word_freq = {}\n",
        "for word in words:\n",
        "    if word not in stop_w:\n",
        "        if word not in word_freq:\n",
        "            word_freq[word] = 1\n",
        "        else:\n",
        "            word_freq[word] += 1\n",
        "      \n",
        "top_words = sorted(word_freq.items(), key=lambda x: x[1], reverse=True)[:20]\n",
        "\n",
        "words = [word[0] for word in top_words]\n",
        "freqs = [word[1] for word in top_words]\n",
        "\n",
        "plt.bar(words, freqs)\n",
        "plt.title('20 наиболее употребляемых слов')\n",
        "plt.xlabel('Слова')\n",
        "plt.ylabel('Частота')\n",
        "plt.xticks(rotation=90)\n",
        "plt.show()"
      ]
    }
  ],
  "metadata": {
    "kernelspec": {
      "display_name": "Python 3 (ipykernel)",
      "language": "python",
      "name": "python3"
    },
    "language_info": {
      "codemirror_mode": {
        "name": "ipython",
        "version": 3
      },
      "file_extension": ".py",
      "mimetype": "text/x-python",
      "name": "python",
      "nbconvert_exporter": "python",
      "pygments_lexer": "ipython3",
      "version": "3.9.7"
    },
    "colab": {
      "provenance": []
    }
  },
  "nbformat": 4,
  "nbformat_minor": 5
}